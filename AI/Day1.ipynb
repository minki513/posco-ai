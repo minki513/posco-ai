{
 "cells": [
  {
   "cell_type": "markdown",
   "metadata": {
    "colab_type": "text",
    "id": "view-in-github"
   },
   "source": [
    "<a href=\"https://colab.research.google.com/github/P17seongbin/2021_AI_demo/blob/main/Day1.ipynb\" target=\"_parent\"><img src=\"https://colab.research.google.com/assets/colab-badge.svg\" alt=\"Open In Colab\"/></a>"
   ]
  },
  {
   "cell_type": "code",
   "execution_count": 1,
   "metadata": {
    "id": "3o59zLnoMWO1"
   },
   "outputs": [],
   "source": [
    "import itertools\n",
    "import time"
   ]
  },
  {
   "cell_type": "code",
   "execution_count": 2,
   "metadata": {
    "id": "RC0KMlcUMU6Y"
   },
   "outputs": [],
   "source": [
    "def judge(queen_pos_list):\n",
    "    for i, (x1, y1) in enumerate(queen_pos_list):\n",
    "        for (x2, y2) in queen_pos_list[i + 1:]:\n",
    "            # Two queens are threaten each other in cardinal direction\n",
    "            if x1 == x2 or y1 == y2:\n",
    "                return False\n",
    "            # Check Two queens are threaten each other in intercardinal direction\n",
    "            for dx, dy in intercardinal:\n",
    "                if (x2 - x1) * dx == (y2 - y1) * dy:\n",
    "                    return False\n",
    "    return True"
   ]
  },
  {
   "cell_type": "code",
   "execution_count": 3,
   "metadata": {
    "id": "_j2DjhTrMebl"
   },
   "outputs": [],
   "source": [
    "# first element: x axis,  second element: y axis\n",
    "intercardinal = [\n",
    "    (1, -1),\n",
    "    (1, 1),\n",
    "    (-1, 1),\n",
    "    (-1, -1)\n",
    "]"
   ]
  },
  {
   "cell_type": "code",
   "execution_count": 18,
   "metadata": {
    "id": "wilOKXoeMdLN"
   },
   "outputs": [],
   "source": [
    "# Implementation of BFS using FIFO Queue\n",
    "def eight_queens_BFS():\n",
    "    n = 8\n",
    "    n2 = n ** 2\n",
    "    ans_count = 0\n",
    "    queue = [([(x,y)],1) for x in range(1,9) for y in range(1,9)]\n",
    "    queue_len = n2\n",
    "    \n",
    "    # using len() per each cycle is inefficient\n",
    "    while queue_len > 0:\n",
    "        # copy first element(front element) of the queue and remove it from the stack\n",
    "        queen_list, queen_count = queue.pop(0)\n",
    "        queue_len -= 1\n",
    "        if queen_count == n:\n",
    "            # Correctness of the datum should be judged when the datum is added in the queue.\n",
    "            ans_count += 1\n",
    "        else:\n",
    "            ####################################\n",
    "            # TODO: Implement single cycle of BFS\n",
    "            # queen_list = list of pos of queen.\n",
    "            # how to push an element into the queue: queue.append(XXX)\n",
    "            # Hint: use judge function\n",
    "            judge(queue)\n",
    "            # (Optional) Implement Dynamic Programming to prevent checking same route multiple times.\n",
    "            # (judge(queen_list) = True iff there are no two or more queens which are threatening each other)\n",
    "            \n",
    "            raise NotImplementedError()\n",
    "            #########################################\n",
    "    return ans_count\n"
   ]
  },
  {
   "cell_type": "code",
   "execution_count": 15,
   "metadata": {},
   "outputs": [
    {
     "data": {
      "text/plain": [
       "[(1, 1)]"
      ]
     },
     "execution_count": 15,
     "metadata": {},
     "output_type": "execute_result"
    }
   ],
   "source": [
    "queue = [([(x,y)],1) for x in range(1,9) for y in range(1,9)]\n",
    "queen_list, queen_count = queue.pop(0)\n",
    "\n",
    "queen_list"
   ]
  },
  {
   "cell_type": "code",
   "execution_count": 5,
   "metadata": {
    "id": "oABa6r36KpR0"
   },
   "outputs": [],
   "source": [
    "# Implementation of DFS using FILO Stack\n",
    "def eight_queens_DFS():\n",
    "    n = 8\n",
    "    n2 = n ** 2\n",
    "    ans_count = 0\n",
    "    stack =  [([(x,y)],1) for x in range(1,9) for y in range(1,9)]\n",
    "    stack_len = 64\n",
    "    # using len() per each cycle is inefficient\n",
    "    while stack_len > 0:\n",
    "        # copy last element(top element) of the stack and remove it from the stack\n",
    "        queen_list, queen_count = stack.pop(-1)\n",
    "        stack_len -= 1\n",
    "        if queen_count == n:\n",
    "            # Correctness of the datum is already judged when the datum is added in the stack.\n",
    "            ans_count += 1\n",
    "            # print(f\"{ans_count}th case: {queen_list}\")\n",
    "        else:\n",
    "            ####################################\n",
    "            # TODO: Implement single cycle of DFS\n",
    "            # queen_list = list of pos of queen.\n",
    "            # how to push an element into the stack: stack.append(XXX)\n",
    "            # Hint: use judge function\n",
    "            # (Optional) Implement Dynamic Programming to prevent checking same route multiple times.\n",
    "            # (judge(queen_list) = True iff there are no two or more queens which are threatening each other)\n",
    "            raise NotImplementedError()\n",
    "        #########################################\n",
    "    return ans_count"
   ]
  },
  {
   "cell_type": "code",
   "execution_count": 6,
   "metadata": {
    "id": "0Sz1cjfJMhg9"
   },
   "outputs": [],
   "source": [
    "def eight_queens_brute_force():\n",
    "    count = 0\n",
    "    iterator = itertools.combinations([(x,y) for x in range(1,9) for y in range(1,9)], 8)\n",
    "    for comb in iterator:\n",
    "        if judge(comb):\n",
    "            count += 1\n",
    "            print(f\"{count}th case: {comb}\")\n",
    "    return count"
   ]
  },
  {
   "cell_type": "code",
   "execution_count": 17,
   "metadata": {},
   "outputs": [
    {
     "name": "stdout",
     "output_type": "stream",
     "text": [
      "<itertools.combinations object at 0x000001B128BBC310>\n"
     ]
    }
   ],
   "source": [
    "iterator = itertools.combinations([(x,y) for x in range(1,9) for y in range(1,9)], 8)\n",
    "print(iterator)"
   ]
  },
  {
   "cell_type": "code",
   "execution_count": 19,
   "metadata": {
    "id": "G0DVOxYnMjsd"
   },
   "outputs": [
    {
     "ename": "NotImplementedError",
     "evalue": "",
     "output_type": "error",
     "traceback": [
      "\u001b[1;31m---------------------------------------------------------------------------\u001b[0m",
      "\u001b[1;31mNotImplementedError\u001b[0m                       Traceback (most recent call last)",
      "\u001b[1;32m<ipython-input-19-0ce8d5ea788b>\u001b[0m in \u001b[0;36m<module>\u001b[1;34m\u001b[0m\n\u001b[0;32m      4\u001b[0m \u001b[1;32mfor\u001b[0m \u001b[0mi\u001b[0m \u001b[1;32min\u001b[0m \u001b[0mrange\u001b[0m\u001b[1;33m(\u001b[0m\u001b[0mr\u001b[0m\u001b[1;33m)\u001b[0m\u001b[1;33m:\u001b[0m\u001b[1;33m\u001b[0m\u001b[1;33m\u001b[0m\u001b[0m\n\u001b[0;32m      5\u001b[0m     \u001b[0mst_time\u001b[0m \u001b[1;33m=\u001b[0m \u001b[0mtime\u001b[0m\u001b[1;33m.\u001b[0m\u001b[0mtime\u001b[0m\u001b[1;33m(\u001b[0m\u001b[1;33m)\u001b[0m\u001b[1;33m\u001b[0m\u001b[1;33m\u001b[0m\u001b[0m\n\u001b[1;32m----> 6\u001b[1;33m     \u001b[0mc\u001b[0m \u001b[1;33m=\u001b[0m \u001b[0meight_queens_DFS\u001b[0m\u001b[1;33m(\u001b[0m\u001b[1;33m)\u001b[0m\u001b[1;33m\u001b[0m\u001b[1;33m\u001b[0m\u001b[0m\n\u001b[0m\u001b[0;32m      7\u001b[0m     \u001b[0med_time\u001b[0m \u001b[1;33m=\u001b[0m \u001b[0mtime\u001b[0m\u001b[1;33m.\u001b[0m\u001b[0mtime\u001b[0m\u001b[1;33m(\u001b[0m\u001b[1;33m)\u001b[0m\u001b[1;33m\u001b[0m\u001b[1;33m\u001b[0m\u001b[0m\n\u001b[0;32m      8\u001b[0m     \u001b[0mtd\u001b[0m \u001b[1;33m+=\u001b[0m \u001b[1;33m(\u001b[0m\u001b[0med_time\u001b[0m \u001b[1;33m-\u001b[0m \u001b[0mst_time\u001b[0m\u001b[1;33m)\u001b[0m\u001b[1;33m\u001b[0m\u001b[1;33m\u001b[0m\u001b[0m\n",
      "\u001b[1;32m<ipython-input-5-56a302d2ccbb>\u001b[0m in \u001b[0;36meight_queens_DFS\u001b[1;34m()\u001b[0m\n\u001b[0;32m     23\u001b[0m             \u001b[1;31m# (Optional) Implement Dynamic Programming to prevent checking same route multiple times.\u001b[0m\u001b[1;33m\u001b[0m\u001b[1;33m\u001b[0m\u001b[1;33m\u001b[0m\u001b[0m\n\u001b[0;32m     24\u001b[0m             \u001b[1;31m# (judge(queen_list) = True iff there are no two or more queens which are threatening each other)\u001b[0m\u001b[1;33m\u001b[0m\u001b[1;33m\u001b[0m\u001b[1;33m\u001b[0m\u001b[0m\n\u001b[1;32m---> 25\u001b[1;33m             \u001b[1;32mraise\u001b[0m \u001b[0mNotImplementedError\u001b[0m\u001b[1;33m(\u001b[0m\u001b[1;33m)\u001b[0m\u001b[1;33m\u001b[0m\u001b[1;33m\u001b[0m\u001b[0m\n\u001b[0m\u001b[0;32m     26\u001b[0m         \u001b[1;31m#########################################\u001b[0m\u001b[1;33m\u001b[0m\u001b[1;33m\u001b[0m\u001b[1;33m\u001b[0m\u001b[0m\n\u001b[0;32m     27\u001b[0m     \u001b[1;32mreturn\u001b[0m \u001b[0mans_count\u001b[0m\u001b[1;33m\u001b[0m\u001b[1;33m\u001b[0m\u001b[0m\n",
      "\u001b[1;31mNotImplementedError\u001b[0m: "
     ]
    }
   ],
   "source": [
    "td = 0\n",
    "tb = 0\n",
    "r = 5\n",
    "for i in range(r):\n",
    "    st_time = time.time()\n",
    "    c = eight_queens_DFS()\n",
    "    ed_time = time.time()\n",
    "    td += (ed_time - st_time)\n",
    "    print(f\"Total Count: {c}\")\n",
    "    print(f\"Elapsed Time(DFS) ({i}th try): {ed_time-st_time}\")\n",
    "    st_time = time.time()\n",
    "    c = eight_queens_BFS()\n",
    "    ed_time = time.time()\n",
    "    tb += (ed_time - st_time)\n",
    "    print(f\"Total Count: {c}\")\n",
    "    print(f\"Elapsed Time(BFS) ({i}th try): {ed_time-st_time}\")\n",
    "\n",
    "print(f\"Elapsed Time(DFS) (Average): {td / r}\")\n",
    "print(f\"Elapsed Time(BFS) (Average): {tb / r}\")\n"
   ]
  },
  {
   "cell_type": "markdown",
   "metadata": {
    "id": "rzimMHPJMneo"
   },
   "source": []
  }
 ],
 "metadata": {
  "colab": {
   "authorship_tag": "ABX9TyO4gkblto5eEr4qI1Sh4NDu",
   "collapsed_sections": [],
   "include_colab_link": true,
   "name": "Untitled0.ipynb",
   "provenance": []
  },
  "kernelspec": {
   "display_name": "Python 3",
   "language": "python",
   "name": "python3"
  },
  "language_info": {
   "codemirror_mode": {
    "name": "ipython",
    "version": 3
   },
   "file_extension": ".py",
   "mimetype": "text/x-python",
   "name": "python",
   "nbconvert_exporter": "python",
   "pygments_lexer": "ipython3",
   "version": "3.8.8"
  }
 },
 "nbformat": 4,
 "nbformat_minor": 1
}

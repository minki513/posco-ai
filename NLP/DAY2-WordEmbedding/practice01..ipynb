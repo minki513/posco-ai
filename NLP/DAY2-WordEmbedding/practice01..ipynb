{
 "cells": [
  {
   "cell_type": "code",
   "execution_count": 1,
   "metadata": {},
   "outputs": [],
   "source": [
    "import torch\n",
    "import torch.nn"
   ]
  },
  {
   "cell_type": "code",
   "execution_count": 2,
   "metadata": {},
   "outputs": [],
   "source": [
    "vocab = {\n",
    "    '청년': 0,\n",
    "    'AI': 1,\n",
    "    'BIGDATA': 2,\n",
    "    'NLP': 3,\n",
    "    '인공지능': 4,\n",
    "    'embedding': 5,\n",
    "    '실습': 6\n",
    "}"
   ]
  },
  {
   "cell_type": "code",
   "execution_count": 6,
   "metadata": {},
   "outputs": [
    {
     "name": "stdout",
     "output_type": "stream",
     "text": [
      "Embedding(7, 10)\n",
      "Parameter containing:\n",
      "tensor([[ 0.4576, -0.5561, -0.6790, -1.0846, -0.9503,  1.2458, -0.7075,  0.9787,\n",
      "         -1.0094,  0.7123],\n",
      "        [ 0.1781, -0.0349,  2.2479, -1.4604, -0.1961, -1.9935, -0.5591, -0.4870,\n",
      "         -0.7304, -0.2380],\n",
      "        [ 2.4366, -0.6242,  0.4812,  0.0895, -1.9856,  0.1118,  0.4392, -0.0199,\n",
      "          0.7586, -0.1233],\n",
      "        [-0.2369, -1.0782,  1.3270, -0.7903, -0.3675,  0.6443,  0.3959, -2.4920,\n",
      "          0.9047,  0.6373],\n",
      "        [-1.1937,  0.7116, -0.9323, -0.8343, -0.4418,  0.6526,  0.1821,  1.5994,\n",
      "         -2.1765,  1.1670],\n",
      "        [-0.3285,  1.0804, -0.9665, -0.3308,  0.8121, -0.3524, -0.2446, -0.2275,\n",
      "          0.0163, -0.0766],\n",
      "        [ 0.3428, -2.0050, -0.1374,  0.0868, -0.4670,  0.6506, -0.2829, -1.3292,\n",
      "         -0.9700,  1.0056]], requires_grad=True)\n"
     ]
    }
   ],
   "source": [
    "dim=10  #10차원으로 설정함 \n",
    "emb_mtx = torch.nn.Embedding(len(vocab), dim)\n",
    "\n",
    "print(emb_mtx)\n",
    "print(emb_mtx.weight)"
   ]
  },
  {
   "cell_type": "code",
   "execution_count": 9,
   "metadata": {},
   "outputs": [
    {
     "name": "stdout",
     "output_type": "stream",
     "text": [
      "Tensor: tensor([0])\n",
      "Shape: torch.Size([1])\n",
      "\n",
      "Tensor:\n",
      "tensor([[ 0.4576, -0.5561, -0.6790, -1.0846, -0.9503,  1.2458, -0.7075,  0.9787,\n",
      "         -1.0094,  0.7123]], grad_fn=<EmbeddingBackward>)\n",
      "Shape: torch.Size([1, 10])\n"
     ]
    }
   ],
   "source": [
    "## Practice 1 ##\n",
    "\n",
    "# print word embedding of '청년'\n",
    "idx = torch.tensor([vocab['청년']], dtype = torch.long)\n",
    "# practice: make index tensor for '청년'\n",
    "print(\"Tensor: {}\\nShape: {}\\n\".format(idx, idx.size()))\n",
    "\n",
    "emb = emb_mtx(idx) # make word embedding for '청년'\n",
    "print(\"Tensor:\\n{}\\nShape: {}\".format(emb, emb.size()))"
   ]
  },
  {
   "cell_type": "code",
   "execution_count": 11,
   "metadata": {},
   "outputs": [
    {
     "name": "stdout",
     "output_type": "stream",
     "text": [
      "Tensor: tensor([0, 1, 2])\n",
      "Shape: torch.Size([3])\n",
      "\n",
      "Tensor:\n",
      "tensor([[ 0.4576, -0.5561, -0.6790, -1.0846, -0.9503,  1.2458, -0.7075,  0.9787,\n",
      "         -1.0094,  0.7123],\n",
      "        [ 0.1781, -0.0349,  2.2479, -1.4604, -0.1961, -1.9935, -0.5591, -0.4870,\n",
      "         -0.7304, -0.2380],\n",
      "        [ 2.4366, -0.6242,  0.4812,  0.0895, -1.9856,  0.1118,  0.4392, -0.0199,\n",
      "          0.7586, -0.1233]], grad_fn=<EmbeddingBackward>)\n",
      "Shape: torch.Size([3, 10])\n"
     ]
    }
   ],
   "source": [
    "## Practice 2 ##\n",
    "\n",
    "# print word embeddings for a given sentence: \"청년 AI BIGDATA\"\n",
    "sent = ['청년', 'AI', 'BIGDATA']\n",
    "idxs = []\n",
    "for word in sent:\n",
    "    idx = vocab[word]\n",
    "    idxs.append(idx) # append idx to idxs\n",
    "\n",
    "idxs = torch.tensor(idxs, dtype = torch.long)\n",
    "print(\"Tensor: {}\\nShape: {}\\n\".format(idxs, idxs.size()))\n",
    "\n",
    "emb = emb_mtx(idxs)\n",
    "print(\"Tensor:\\n{}\\nShape: {}\".format(emb, emb.size()))"
   ]
  },
  {
   "cell_type": "code",
   "execution_count": 13,
   "metadata": {},
   "outputs": [
    {
     "name": "stdout",
     "output_type": "stream",
     "text": [
      "Tensor:\n",
      "tensor([[0, 1, 2],\n",
      "        [3, 5, 6]])\n",
      "Shape: torch.Size([2, 3])\n",
      "\n",
      "Tensor:\n",
      "tensor([[[ 0.4576, -0.5561, -0.6790, -1.0846, -0.9503,  1.2458, -0.7075,\n",
      "           0.9787, -1.0094,  0.7123],\n",
      "         [ 0.1781, -0.0349,  2.2479, -1.4604, -0.1961, -1.9935, -0.5591,\n",
      "          -0.4870, -0.7304, -0.2380],\n",
      "         [ 2.4366, -0.6242,  0.4812,  0.0895, -1.9856,  0.1118,  0.4392,\n",
      "          -0.0199,  0.7586, -0.1233]],\n",
      "\n",
      "        [[-0.2369, -1.0782,  1.3270, -0.7903, -0.3675,  0.6443,  0.3959,\n",
      "          -2.4920,  0.9047,  0.6373],\n",
      "         [-0.3285,  1.0804, -0.9665, -0.3308,  0.8121, -0.3524, -0.2446,\n",
      "          -0.2275,  0.0163, -0.0766],\n",
      "         [ 0.3428, -2.0050, -0.1374,  0.0868, -0.4670,  0.6506, -0.2829,\n",
      "          -1.3292, -0.9700,  1.0056]]], grad_fn=<EmbeddingBackward>)\n",
      "Shape: torch.Size([2, 3, 10])\n"
     ]
    }
   ],
   "source": [
    "## Practice 03 ##\n",
    "# construct batch level word embeddings: [\"청년 AI BIGDATA\", \"NLP embedding 실습\"]\n",
    "\n",
    "sents = [['청년', 'AI', 'BIGDATA'],\n",
    "         ['NLP', 'embedding', '실습']]\n",
    "\n",
    "batch_idxs = []\n",
    "for sent in sents:\n",
    "    idxs = []\n",
    "    for word in sent:\n",
    "        idx = vocab[word]\n",
    "        idxs.append(idx)\n",
    "    batch_idxs.append(idxs)\n",
    "\n",
    "batch_idxs = torch.tensor(batch_idxs,dtype = torch.long)\n",
    "print(\"Tensor:\\n{}\\nShape: {}\".format(batch_idxs, batch_idxs.size()))\n",
    "print('')\n",
    "\n",
    "emb = emb_mtx(batch_idxs)\n",
    "print(\"Tensor:\\n{}\\nShape: {}\".format(emb, emb.size()))"
   ]
  }
 ],
 "metadata": {
  "kernelspec": {
   "display_name": "Python 3",
   "language": "python",
   "name": "python3"
  },
  "language_info": {
   "codemirror_mode": {
    "name": "ipython",
    "version": 3
   },
   "file_extension": ".py",
   "mimetype": "text/x-python",
   "name": "python",
   "nbconvert_exporter": "python",
   "pygments_lexer": "ipython3",
   "version": "3.8.8"
  }
 },
 "nbformat": 4,
 "nbformat_minor": 4
}

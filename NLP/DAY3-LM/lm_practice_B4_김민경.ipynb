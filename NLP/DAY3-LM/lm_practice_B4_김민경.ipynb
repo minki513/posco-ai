{
 "cells": [
  {
   "cell_type": "code",
   "execution_count": 1,
   "metadata": {},
   "outputs": [],
   "source": [
    "import torch.nn as nn\n",
    "import torch\n",
    "import torch.nn.utils.rnn as rnn\n",
    "import statistics\n",
    "import nltk # 없으시면 설치하세요: pip install nltk\n",
    "import random\n",
    "import collections\n",
    "import time"
   ]
  },
  {
   "cell_type": "code",
   "execution_count": 2,
   "metadata": {},
   "outputs": [],
   "source": [
    "device = torch.device('cuda' if torch.cuda.is_available() else 'cpu')"
   ]
  },
  {
   "cell_type": "code",
   "execution_count": 3,
   "metadata": {},
   "outputs": [],
   "source": [
    "## Dictionary class 선언\n",
    "# 사전 만들어 주는 클래스 \n",
    "class Dictionary(object):\n",
    "    def __init__(self, dataset, size):\n",
    "        ## init vocab ##\n",
    "        self.word2idx = {'<pad>':0, '<sos>': 1, '<eos>': 2, '<unk>': 3} # 사전 \n",
    "        # sos는 start eos는 end unk는 사전에 입력되지 않은 거 처리\n",
    "        self.idx2word = ['<pad>', '<sos>', '<eos>', '<unk>'] # inverted dictionary\n",
    "        # self.word2idx['<unk>'] --> 3 을 출력 키 값을 인덱스를 줌\n",
    "        # self.idx2word[3] = '<unk>'을 출력 인덱스로 단어를 줌\n",
    "        \n",
    "        self.build_dict(dataset, size)\n",
    "    \n",
    "    def __call__(self, word):\n",
    "        return self.word2idx.get(word, self.word2idx['<unk>']) # if word does not exist in vocab then return unk idx\n",
    "\n",
    "    def add_word(self, word):\n",
    "        if word not in self.word2idx:\n",
    "            self.idx2word.append(word)\n",
    "            self.word2idx[word] = len(self.idx2word) - 1\n",
    "        return self.word2idx[word]\n",
    "\n",
    "    def build_dict(self, dataset, dict_size):\n",
    "        ## Practice ##\n",
    "        \"\"\"Tokenize a text file.\"\"\"\n",
    "        # (the, the, a, boy, girl, ..,)\n",
    "        total_words = (word for sent in dataset for word in sent) # store all words into tuple \n",
    "        # 데이터셋에 있는 것을 튜플로 모두 담는 것 = total_words\n",
    "        \n",
    "        # ('The': 10000, 'a': 5555, 'girl': 3400, ...)\n",
    "        word_freq = collections.Counter(total_words)# count the number of each word: ex) \n",
    "        # 빈도수를 셈 = word_freq\n",
    "        \n",
    "        vocab = sorted(word_freq.keys(), key=lambda word: (word_freq[word], word), reverse = True ) # Practice: sort by frequency\n",
    "        vocab = vocab[:dict_size] # truncate  사전에 넣을 것을 짜르기\n",
    "        for word in vocab:\n",
    "            self.add_word(word)\n",
    "\n",
    "    def __len__(self):\n",
    "        return len(self.idx2word)\n"
   ]
  },
  {
   "cell_type": "code",
   "execution_count": 4,
   "metadata": {},
   "outputs": [],
   "source": [
    "## Brown dataset Preprocessing (NLTK)\n",
    "def brown_dataset(min=5, max=30):\n",
    "    nltk.download('brown')\n",
    "\n",
    "    # get sentences with the length between min and max\n",
    "    # convert all words into lower-case\n",
    "    all_seq = [[token.lower() for token in seq] for seq in nltk.corpus.brown.sents() \n",
    "               if min <= len(seq) <= max]\n",
    "\n",
    "    random.shuffle(all_seq) # shuffle\n",
    "    return all_seq"
   ]
  },
  {
   "cell_type": "code",
   "execution_count": 5,
   "metadata": {},
   "outputs": [
    {
     "name": "stderr",
     "output_type": "stream",
     "text": [
      "[nltk_data] Downloading package brown to /home/piai/nltk_data...\n",
      "[nltk_data]   Package brown is already up-to-date!\n"
     ]
    },
    {
     "name": "stdout",
     "output_type": "stream",
     "text": [
      "43450\n",
      "['keane', 'left', ',', 'within', 'three', 'days', '.']\n",
      "['cattle', 'drove', 'to', 'the', 'northern', 'ranges', 'and', 'held', 'for', 'two', 'winters', 'to', 'mature', \"'em\", 'into', 'prime', 'beef', 'were', 'said', 'to', 'be', '``', 'double', 'wintered', \"''\", '.']\n",
      "['such', 'a', 'twist', 'would', 'be', 'a', 'tragedy', 'for', 'the', 'dominican', 'people', ',', 'who', 'deserve', 'to', 'breathe', 'without', 'fear', '.']\n"
     ]
    }
   ],
   "source": [
    "## Download Brown dataset\n",
    "dataset = brown_dataset()\n",
    "print(len(dataset))\n",
    "## print some part\n",
    "print(dataset[0])\n",
    "print(dataset[1])\n",
    "print(dataset[2])"
   ]
  },
  {
   "cell_type": "code",
   "execution_count": 6,
   "metadata": {},
   "outputs": [],
   "source": [
    "## Data handler class 선언\n",
    "class Corpus(object):\n",
    "    def __init__(self, dataset, device, dict_size=20000, train_ratio=0.97):\n",
    "        train_size = int(len(dataset) * train_ratio)\n",
    "        self.device = device\n",
    "        self.dictionary = Dictionary(dataset, dict_size)\n",
    "        self.train = dataset[:train_size] # [0 ~ train_size]\n",
    "        self.valid = dataset[train_size:] # [train_size: len(dataset)]\n",
    "\n",
    "    def indexing(self, dat):  # batching 인덱싱 하는 함수\n",
    "        # dat = list(list)   [['we', 'are', 'the', 'word'], [\"hi\", \"my\", \"name\", ...\"\"]]\n",
    "        src_idxes = [] # 모델 입력\n",
    "        tgt_idxes = [] # 모델 정답\n",
    "        for sent in dat:\n",
    "            src_idx = [self.dictionary('<sos>')]+ [self.dictionary(word) for word in sent]\n",
    "            tgt_idx = [self.dictionary(word) for word in sent] + [self.dictionary('<eos>')]\n",
    "            src_idxes.append(torch.tensor(src_idx).type(torch.int64))\n",
    "            tgt_idxes.append(torch.tensor(tgt_idx).type(torch.int64))\n",
    "        \n",
    "        # shape = [B, L]   pading 넣어주기\n",
    "        src_idxes = rnn.pad_sequence(src_idxes, batch_first=True).to(self.device) # [batch, length]\n",
    "        \n",
    "        # flatten shape = [B * L]\n",
    "        tgt_idxes = rnn.pad_sequence(tgt_idxes, batch_first=True).to(self.device).view(-1) # [batch * length]\n",
    "\n",
    "        return src_idxes, tgt_idxes\n",
    "\n",
    "    def batch_iter(self, batch_size, isTrain=True):\n",
    "        dat = self.train if isTrain else self.valid\n",
    "        if isTrain:\n",
    "            random.shuffle(dat)\n",
    "\n",
    "        for i in range(len(dat) // batch_size):\n",
    "            batch = dat[i * batch_size: (i+1) * batch_size]\n",
    "            src, tgt = self.indexing(batch)\n",
    "            yield {'src': src, 'tgt': tgt}"
   ]
  },
  {
   "cell_type": "code",
   "execution_count": 7,
   "metadata": {},
   "outputs": [],
   "source": [
    "corpus = Corpus(dataset, device)"
   ]
  },
  {
   "cell_type": "code",
   "execution_count": 8,
   "metadata": {},
   "outputs": [
    {
     "name": "stdout",
     "output_type": "stream",
     "text": [
      "word:  <pad>      | index:     0 \n",
      "word:  <sos>      | index:     1 \n",
      "word:  <eos>      | index:     2 \n",
      "word:  <unk>      | index:     3 \n",
      "word:  the        | index:     4 \n",
      "word:  .          | index:     5 \n",
      "word:  ,          | index:     6 \n",
      "word:  of         | index:     7 \n",
      "word:  and        | index:     8 \n",
      "word:  to         | index:     9 \n",
      "word:  a          | index:    10 \n",
      "word:  in         | index:    11 \n",
      "word:  was        | index:    12 \n",
      "word:  he         | index:    13 \n",
      "word:  is         | index:    14 \n",
      "word:  ''         | index:    15 \n",
      "word:  ``         | index:    16 \n",
      "word:  it         | index:    17 \n",
      "word:  that       | index:    18 \n",
      "word:  for        | index:    19 \n",
      "word:  ;          | index:    20 \n"
     ]
    }
   ],
   "source": [
    "# Dictionary 확인\n",
    "for i, (key, val) in enumerate(corpus.dictionary.word2idx.items()):\n",
    "    print('word:  {:10s} | index: {:5d} '.format(key, val))\n",
    "    if i == 20:\n",
    "        break"
   ]
  },
  {
   "cell_type": "code",
   "execution_count": 9,
   "metadata": {},
   "outputs": [
    {
     "name": "stdout",
     "output_type": "stream",
     "text": [
      "[['after', 'his', 'pains', 'got', 'worse', ',', 'tom', 'decided', 'to', 'see', 'a', 'real', 'doctor', ',', 'from', 'whom', 'he', 'learned', 'he', 'was', 'suffering', 'from', 'cancer', 'of', 'the', 'lung', '.']]\n",
      "tensor([[   1,  108,   21, 5676,  162, 1809,    6, 1423,  703,    9,  124,   10,\n",
      "          374,  904,    6,   36,  946,   13, 1050,   13,   12, 3703,   36, 4282,\n",
      "            7,    4, 4978,    5]], device='cuda:0')\n",
      "tensor([ 108,   21, 5676,  162, 1809,    6, 1423,  703,    9,  124,   10,  374,\n",
      "         904,    6,   36,  946,   13, 1050,   13,   12, 3703,   36, 4282,    7,\n",
      "           4, 4978,    5,    2], device='cuda:0')\n",
      "------------------------------------------------------------------------------------------\n",
      "[['--', 'in', 'a', 'physiochemical', 'study', 'of', 'seed', 'proteins', ',', 'the', 'globulins', 'of', 'the', 'brazil', 'nut', 'have', 'been', 'investigated', '.'], ['after', 'his', 'pains', 'got', 'worse', ',', 'tom', 'decided', 'to', 'see', 'a', 'real', 'doctor', ',', 'from', 'whom', 'he', 'learned', 'he', 'was', 'suffering', 'from', 'cancer', 'of', 'the', 'lung', '.']]\n",
      "tensor([[    1,    50,    11,    10,     3,   408,     7,  2167,  6672,     6,\n",
      "             4,     3,     7,     4, 10108,  5692,    37,    52,  4198,     5,\n",
      "             0,     0,     0,     0,     0,     0,     0,     0],\n",
      "        [    1,   108,    21,  5676,   162,  1809,     6,  1423,   703,     9,\n",
      "           124,    10,   374,   904,     6,    36,   946,    13,  1050,    13,\n",
      "            12,  3703,    36,  4282,     7,     4,  4978,     5]],\n",
      "       device='cuda:0')\n",
      "tensor([   50,    11,    10,     3,   408,     7,  2167,  6672,     6,     4,\n",
      "            3,     7,     4, 10108,  5692,    37,    52,  4198,     5,     2,\n",
      "            0,     0,     0,     0,     0,     0,     0,     0,   108,    21,\n",
      "         5676,   162,  1809,     6,  1423,   703,     9,   124,    10,   374,\n",
      "          904,     6,    36,   946,    13,  1050,    13,    12,  3703,    36,\n",
      "         4282,     7,     4,  4978,     5,     2], device='cuda:0')\n"
     ]
    }
   ],
   "source": [
    "## indexing 함수 결과 확인\n",
    "\n",
    "# case : 단일 문장 입력 시. \n",
    "sent = [dataset[1]]\n",
    "idx_src, idx_tgt = corpus.indexing(sent)\n",
    "\n",
    "print(sent)\n",
    "print(idx_src) # <SOS> index로 시작\n",
    "print(idx_tgt) # <EOS> index로 종료\n",
    "\n",
    "print('-' * 90)\n",
    "## case : 복수 문장 입력 시 (batching)\n",
    "batch = [dataset[0], dataset[1]]\n",
    "idx_src, idx_tgt = corpus.indexing(batch)\n",
    "\n",
    "print(batch)\n",
    "print(idx_src) # 가장 길이가 긴 문장 (dataset[0]) 보다 짧은 문장 (dataset[1]) 의 경우 남는 길이만큼 padding=0 삽입 확인.\n",
    "print(idx_tgt)"
   ]
  },
  {
   "cell_type": "code",
   "execution_count": 19,
   "metadata": {},
   "outputs": [
    {
     "name": "stdout",
     "output_type": "stream",
     "text": [
      "['he', 'had', 'no', 'love', 'how', 'much', 'time', 'strasbourg', 'would', 'felt', 'him', '.']\n"
     ]
    }
   ],
   "source": [
    "# Practice\n",
    "\n",
    "# Convert word indices to word with corpus.dictionary\n",
    "word_indices = [13, 29, 56, 458, 120, 109, 78, 9149, 49, 239, 47, 5]\n",
    "words = [corpus.dictionary.idx2word[idx] for idx in word_indices]\n",
    "print(words)"
   ]
  },
  {
   "cell_type": "markdown",
   "metadata": {},
   "source": [
    "# RNN Model\n",
    "![모델구조](fig/LM_model.png)"
   ]
  },
  {
   "cell_type": "code",
   "execution_count": 9,
   "metadata": {},
   "outputs": [],
   "source": [
    "## RNN Language model 선언\n",
    "\n",
    "# Define network\n",
    "class RNNModel(nn.Module):\n",
    "    def __init__(self, ntoken, hidden_size, nlayers, dropout=0.1):\n",
    "        super(RNNModel, self).__init__()\n",
    "        # ntoken: size of vocab\n",
    "        # hidden: size of hidden vector\n",
    "        \n",
    "        self.drop = nn.Dropout(dropout)\n",
    "        self.embeddings = nn.Embedding(ntoken, hidden_size, padding_idx=0) # Practice \n",
    "        self.rnn = nn.LSTM(hidden_size, hidden_size, nlayers, \n",
    "                           dropout=dropout, batch_first=True) # Practice \n",
    "        self.output_layer = nn.Linear(hidden_size, ntoken) # Practice\n",
    "        self.sm = nn.LogSoftmax(dim=-1) # log확률값\n",
    "\n",
    "        self.ntoken = ntoken\n",
    "        self.hidden_size = hidden_size\n",
    "        self.nlayers = nlayers\n",
    "\n",
    "        self.init_weights()\n",
    "\n",
    "    def init_weights(self):\n",
    "        initrange = 0.1\n",
    "        self.embeddings.weight.data.uniform_(-initrange, initrange)\n",
    "        self.output_layer.weight.data.uniform_(-initrange, initrange)\n",
    "        self.output_layer.bias.data.zero_()\n",
    "\n",
    "    def forward(self, input, hidden):\n",
    "        # shape(input) = [Batch, length]\n",
    "        emb = self.embeddings(input) # input -> embedding = (batch, length, dim)\n",
    "        output, hidden = self.rnn(emb, hidden) # output = (batch. length. dim)\n",
    "        output = self.drop(output) #dropout\n",
    "        output = self.output_layer(output)\n",
    "        # linear projection : hidden dim --> vocab size (batch, len, vocab)\n",
    "        output = output.view(-1, self.ntoken) # output = (batch * length, vocab_size)\n",
    "        output = self.sm(output)\n",
    "        return output, hidden\n",
    "\n",
    "    def init_hidden(self, bsz): # 첫번째 hidden의 history (h(-1))\n",
    "        weight = next(self.parameters()) # to set init tensor with the same torch.dtype and torch.device\n",
    "        return (weight.new_zeros(self.nlayers, bsz, self.hidden_size),\n",
    "                weight.new_zeros(self.nlayers, bsz, self.hidden_size))\n"
   ]
  },
  {
   "cell_type": "code",
   "execution_count": 10,
   "metadata": {},
   "outputs": [
    {
     "name": "stderr",
     "output_type": "stream",
     "text": [
      "/home/piai/anaconda3/envs/AIBD/lib/python3.8/site-packages/torch/nn/modules/rnn.py:62: UserWarning: dropout option adds dropout after all but last recurrent layer, so non-zero dropout expects num_layers greater than 1, but got dropout=0.2 and num_layers=1\n",
      "  warnings.warn(\"dropout option adds dropout after all but last \"\n"
     ]
    }
   ],
   "source": [
    "# Hyperparameters\n",
    "batch_size = 30 # 자기가 설정 가능\n",
    "hidden_size = 256\n",
    "dropout = 0.2\n",
    "max_epoch = 30\n",
    "\n",
    "# build model\n",
    "ntokens = len(corpus.dictionary)\n",
    "model = RNNModel(ntokens, hidden_size, 1, dropout).to(device)\n",
    "\n",
    "#isTrain=True # Flag variable\n",
    "isTrain=False # 이미 학습한 모델을 단순히 load만 수행하고 학습 X\n",
    "\n",
    "# set loss func and optimizer\n",
    "optimizer = torch.optim.Adam(model.parameters(), lr=0.005)\n",
    "criterion = nn.NLLLoss(ignore_index=0, reduction='mean')"
   ]
  },
  {
   "cell_type": "code",
   "execution_count": 11,
   "metadata": {},
   "outputs": [],
   "source": [
    "##### Training / Evaluation Parts #######"
   ]
  },
  {
   "cell_type": "code",
   "execution_count": 12,
   "metadata": {},
   "outputs": [],
   "source": [
    "# accuracy\n",
    "def cal_acc(scores, target):\n",
    "    pred = scores.max(-1)[1]\n",
    "    non_pad = target.ne(0)\n",
    "    num_correct = pred.eq(target).masked_select(non_pad).sum().item() \n",
    "    num_non_pad = non_pad.sum().item()\n",
    "    return 100 * (num_correct / num_non_pad)"
   ]
  },
  {
   "cell_type": "markdown",
   "metadata": {},
   "source": [
    "# Training\n",
    "![학습](fig/LM_train.png)"
   ]
  },
  {
   "cell_type": "code",
   "execution_count": 13,
   "metadata": {},
   "outputs": [],
   "source": [
    "# train func.\n",
    "def train():\n",
    "    model.train() # Turn on training mode which enables dropout.\n",
    "    mean_loss = []\n",
    "    mean_acc = []\n",
    "    start_time = time.time()\n",
    "\n",
    "    for batch in corpus.batch_iter(batch_size):\n",
    "        hidden = model.init_hidden(batch_size) # zero vectors for init hidden\n",
    "        target = batch['tgt'] # flattened target \n",
    "        optimizer.zero_grad()\n",
    "        output, hidden = model(batch['src'], hidden) # output = flatten output = [Batch_size * Length, vocab_size]\n",
    "\n",
    "        # output shape = (batch * length, vocab_size)\n",
    "        # target shape = (batch * length)   --> (batch * length, vocab_size) 로 one-hot distribtuion으로 내부적으로 변환되어 비교 수행\n",
    "        loss = criterion(output, target) # compare between vocab_prob and answer_prob(one-hot converted)\n",
    "        loss.backward()\n",
    "        optimizer.step()\n",
    "\n",
    "        mean_loss.append(loss.item())\n",
    "        mean_acc.append(cal_acc(output, target))\n",
    "\n",
    "    total_time = time.time() - start_time\n",
    "    mean_acc = statistics.mean(mean_acc)\n",
    "    mean_loss = statistics.mean(mean_loss)\n",
    "\n",
    "    return mean_loss, total_time, mean_acc"
   ]
  },
  {
   "cell_type": "code",
   "execution_count": 14,
   "metadata": {},
   "outputs": [],
   "source": [
    "# evaluation func.\n",
    "def evaluate():\n",
    "    model.eval() # Turn off dropout\n",
    "    mean_loss = []\n",
    "    mean_acc = []\n",
    "\n",
    "    for batch in corpus.batch_iter(batch_size, isTrain=False):\n",
    "        with torch.no_grad():\n",
    "            hidden = model.init_hidden(batch_size)\n",
    "            target = batch['tgt']\n",
    "            output, hidden = model(batch['src'], hidden)\n",
    "            loss = criterion(output, target)\n",
    "            mean_loss.append(loss.item())\n",
    "            mean_acc.append(cal_acc(output, target))\n",
    "\n",
    "    mean_acc = statistics.mean(mean_acc)\n",
    "    mean_loss = statistics.mean(mean_loss)\n",
    "\n",
    "    return mean_loss, mean_acc"
   ]
  },
  {
   "cell_type": "code",
   "execution_count": 20,
   "metadata": {},
   "outputs": [
    {
     "name": "stdout",
     "output_type": "stream",
     "text": [
      "epoch    2 | times 16.682 |  loss: 5.618 | accuracy: 20.95\n",
      "epoch    3 | times 16.734 |  loss: 5.034 | accuracy: 24.08\n",
      "epoch    4 | times 16.734 |  loss: 4.689 | accuracy: 25.63\n",
      "epoch    5 | times 16.784 |  loss: 4.389 | accuracy: 27.04\n",
      "epoch    6 | times 16.806 |  loss: 4.130 | accuracy: 28.54\n",
      "epoch    7 | times 16.861 |  loss: 3.914 | accuracy: 30.03\n",
      "epoch    8 | times 16.890 |  loss: 3.741 | accuracy: 31.52\n",
      "epoch    9 | times 16.980 |  loss: 3.603 | accuracy: 32.77\n",
      "epoch   10 | times 16.880 |  loss: 3.494 | accuracy: 33.87\n",
      "epoch   11 | times 16.457 |  loss: 3.408 | accuracy: 34.70\n",
      "============================================================\n",
      "Evaluation | loss: 5.987 | accuracy: 23.74\n",
      "============================================================\n",
      "epoch   12 | times 16.316 |  loss: 3.338 | accuracy: 35.46\n",
      "epoch   13 | times 16.405 |  loss: 3.280 | accuracy: 36.13\n",
      "epoch   14 | times 17.026 |  loss: 3.234 | accuracy: 36.67\n",
      "epoch   15 | times 17.055 |  loss: 3.198 | accuracy: 37.03\n",
      "epoch   16 | times 17.037 |  loss: 3.165 | accuracy: 37.41\n",
      "epoch   17 | times 17.042 |  loss: 3.140 | accuracy: 37.67\n",
      "epoch   18 | times 17.003 |  loss: 3.116 | accuracy: 37.92\n",
      "epoch   19 | times 17.022 |  loss: 3.101 | accuracy: 38.06\n",
      "epoch   20 | times 17.007 |  loss: 3.085 | accuracy: 38.26\n",
      "epoch   21 | times 17.038 |  loss: 3.073 | accuracy: 38.38\n",
      "============================================================\n",
      "Evaluation | loss: 6.742 | accuracy: 22.61\n",
      "============================================================\n",
      "epoch   22 | times 16.576 |  loss: 3.064 | accuracy: 38.50\n",
      "epoch   23 | times 16.751 |  loss: 3.061 | accuracy: 38.37\n",
      "epoch   24 | times 16.482 |  loss: 3.046 | accuracy: 38.61\n",
      "epoch   25 | times 16.795 |  loss: 3.045 | accuracy: 38.55\n",
      "epoch   26 | times 17.083 |  loss: 3.047 | accuracy: 38.54\n",
      "epoch   27 | times 17.103 |  loss: 3.042 | accuracy: 38.54\n",
      "epoch   28 | times 17.093 |  loss: 3.046 | accuracy: 38.46\n",
      "epoch   29 | times 17.023 |  loss: 3.038 | accuracy: 38.54\n",
      "epoch   30 | times 17.102 |  loss: 3.037 | accuracy: 38.54\n",
      "epoch   31 | times 17.116 |  loss: 3.040 | accuracy: 38.52\n",
      "============================================================\n",
      "Evaluation | loss: 7.200 | accuracy: 22.41\n",
      "============================================================\n",
      "save model at: ./model.pt\n"
     ]
    }
   ],
   "source": [
    "if isTrain: # set False if you don't need to train model\n",
    "    start_time = time.time()\n",
    "\n",
    "    for epoch in range(1, max_epoch+1):\n",
    "        loss, epoch_time, accuracy = train()\n",
    "        print('epoch {:4d} | times {:3.3f} |  loss: {:3.3f} | accuracy: {:3.2f}'.format(epoch+1, epoch_time, loss, accuracy))\n",
    "\n",
    "        if epoch % 10 == 0:\n",
    "            loss, accuracy = evaluate()\n",
    "            print('=' * 60)\n",
    "            print('Evaluation | loss: {:3.3f} | accuracy: {:3.2f}'.format(loss, accuracy))\n",
    "            print('=' * 60)\n",
    "\n",
    "    with open('model.pt', 'wb') as f:\n",
    "        print('save model at: ./model.pt')\n",
    "        torch.save(model, f)"
   ]
  },
  {
   "cell_type": "markdown",
   "metadata": {},
   "source": [
    "# 과제1: 문장 확률 계산\n",
    "![문장확률](fig/sent_prob_1.png)\n",
    "![문장확률](fig/sent_prob_2.png)"
   ]
  },
  {
   "cell_type": "code",
   "execution_count": 20,
   "metadata": {},
   "outputs": [],
   "source": [
    "def pred_sent_prob(sent):\n",
    "    model.eval()\n",
    "    with torch.no_grad():\n",
    "        # 1. 모델 입력 및 정답 문장에 대한 단어 indexing\n",
    "        idx_src, idx_tgt = corpus.indexing(sent)\n",
    "        \n",
    "        # 2. initial hidden 생성\n",
    "        hidden = model.init_hidden(1)\n",
    "        \n",
    "        # 3. LM의 결과(확률분포) 생성\n",
    "        output, hidden = model(idx_src, hidden)\n",
    "        \n",
    "        # 4. 모델 확률분포로부터 정답 단어의 각 index에 대한 Log 확률 값 추출.        \n",
    "        prob=0\n",
    "        target_list=idx_tgt.tolist()\n",
    "        \n",
    "        # 5. log 확률의 합.\n",
    "        for i in range(len(target_list)):\n",
    "            prob+=output[i][target_list[i]]\n",
    "            \n",
    "        # 6. 결과 return (return type: float)\n",
    "        return prob"
   ]
  },
  {
   "cell_type": "code",
   "execution_count": 21,
   "metadata": {},
   "outputs": [
    {
     "name": "stdout",
     "output_type": "stream",
     "text": [
      "load model from: ./model.pt\n",
      "log prob of [the dog bark .]: -51.045\n",
      "log prob of [the cat bark .]: -55.037\n",
      "log prob of [boy am a i .]: -34.454\n",
      "log prob of [i am a boy .]: -19.546\n"
     ]
    }
   ],
   "source": [
    "# load saved model\n",
    "with open('./model.pt', 'rb') as f:\n",
    "    print('load model from: ./model.pt')\n",
    "    model = torch.load(f).to(device)\n",
    "\n",
    "    print('log prob of [the dog bark .]: {:3.3f}'.format(pred_sent_prob([['the', 'dog', 'bark', '.']])))\n",
    "    print('log prob of [the cat bark .]: {:3.3f}'.format(pred_sent_prob([['the', 'cat', 'bark', '.']])))\n",
    "\n",
    "    print('log prob of [boy am a i .]: {:3.3f}'.format(pred_sent_prob([['boy', 'am', 'a', 'i', '.']])))\n",
    "    print('log prob of [i am a boy .]: {:3.3f}'.format(pred_sent_prob([['i', 'am', 'a', 'boy', '.']])))\n"
   ]
  },
  {
   "cell_type": "markdown",
   "metadata": {},
   "source": [
    "# 과제2: 다음 단어 예측\n",
    "![다음단어예측](fig/next_word.png)"
   ]
  },
  {
   "cell_type": "code",
   "execution_count": 22,
   "metadata": {},
   "outputs": [],
   "source": [
    "def pred_next_word(partial_sent, topN=3):\n",
    "    model.eval()\n",
    "    topN_word = []\n",
    "    with torch.no_grad():\n",
    "        # 1. 모델 입력 및 정답 문장에 대한 단어 indexing\n",
    "        idx_src, idx_tgt = corpus.indexing(partial_sent)\n",
    "        \n",
    "        # 2. initial hidden 생성\n",
    "        hidden = model.init_hidden(1)\n",
    "        \n",
    "        # 3. LM의 결과(확률분포) 생성\n",
    "        output, hidden = model(idx_src,hidden)\n",
    "\n",
    "        \n",
    "        # 4. topN에 해당하는 다음단어의 word index 추출 (Hint: torch.topk() 활용)\n",
    "        val,idx=torch.topk(output[-1],topN)\n",
    "\n",
    "        # 5. word index --> word 로 변환\n",
    "        for (key, val) in (corpus.dictionary.word2idx.items()):\n",
    "            for j in range(len(idx)):\n",
    "                if idx[j] == val:\n",
    "                    topN_word.append(key)\n",
    "        \n",
    "        # 6. topN word list 반환 (return type: list)\n",
    "            \n",
    "        return topN_word"
   ]
  },
  {
   "cell_type": "code",
   "execution_count": 23,
   "metadata": {},
   "outputs": [
    {
     "name": "stdout",
     "output_type": "stream",
     "text": [
      "Top 3 next words for a partial sentence [the next word] is: \n",
      "===> [',', 'of', 'is']\n"
     ]
    }
   ],
   "source": [
    "partial_sent = [['the', 'next', 'word']]\n",
    "N=3\n",
    "candidates = pred_next_word(partial_sent, topN=N)\n",
    "\n",
    "# print \n",
    "partial_sent = ' '.join(partial_sent[0])\n",
    "print('Top {0} next words for a partial sentence [{1}] is: '.format(N, partial_sent))\n",
    "print('===>', candidates)"
   ]
  }
 ],
 "metadata": {
  "kernelspec": {
   "display_name": "Python 3",
   "language": "python",
   "name": "python3"
  },
  "language_info": {
   "codemirror_mode": {
    "name": "ipython",
    "version": 3
   },
   "file_extension": ".py",
   "mimetype": "text/x-python",
   "name": "python",
   "nbconvert_exporter": "python",
   "pygments_lexer": "ipython3",
   "version": "3.8.8"
  },
  "pycharm": {
   "stem_cell": {
    "cell_type": "raw",
    "metadata": {
     "collapsed": false
    },
    "source": []
   }
  }
 },
 "nbformat": 4,
 "nbformat_minor": 2
}

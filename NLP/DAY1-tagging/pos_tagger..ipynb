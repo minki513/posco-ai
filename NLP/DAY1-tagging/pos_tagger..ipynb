{
 "cells": [
  {
   "cell_type": "code",
   "execution_count": 2,
   "metadata": {},
   "outputs": [],
   "source": [
    "from collections import defaultdict\n",
    "import math\n",
    "\n",
    "def sent_processing(lines):\n",
    "\n",
    "    if isinstance(lines, list):\n",
    "        lines = [line.strip().split(\" \") for line in lines]\n",
    "\n",
    "        corpus = []\n",
    "        for line in lines:\n",
    "            sent = []\n",
    "            for word in line:\n",
    "                word = tuple(word.rsplit(\"/\", 1))\n",
    "                sent.append(word)\n",
    "            corpus.append(sent)\n",
    "\n",
    "        return corpus\n",
    "\n",
    "    elif isinstance(lines, str):\n",
    "        line = []\n",
    "        for word in lines.strip().split(\" \"):\n",
    "            word = tuple(word.rsplit(\"/\", 1))\n",
    "            line.append(word)\n",
    "        return line\n",
    "\n",
    "    else:\n",
    "        print(\"wrong type of input sentence\")\n",
    "        exit(1)\n",
    "\n",
    "    \n",
    "with open(\"corpus.txt\", \"r\", encoding='utf-8') as f:\n",
    "    lines = f.readlines()\n",
    "\n",
    "corpus = sent_processing(lines)"
   ]
  },
  {
   "cell_type": "code",
   "execution_count": 3,
   "metadata": {},
   "outputs": [],
   "source": [
    "def train(corpus):\n",
    "\n",
    "    def bigram_count(sent):\n",
    "        poslist = [pos for _, pos in sent] # [NN, VBD, DT, NN]\n",
    "        return [(pos0, pos1) for pos0, pos1 in zip(poslist, poslist[1:])]\n",
    "\n",
    "    pos2words_freq = defaultdict(lambda: defaultdict(int)) # number of (word, tag)\n",
    "    trans_freq = defaultdict(int) # bigram count --> (tag-1, tag)\n",
    "\n",
    "    # sent format: [(word, tag), (word, tag), ...,(word, tag)]\n",
    "    for sent in corpus: # counting\n",
    "        for word, pos in sent:\n",
    "            pos2words_freq[pos][word] +=1   # 특정 단어의 빈도수 \n",
    "\n",
    "        for bigram in bigram_count(sent):\n",
    "            trans_freq[bigram] +=1\n",
    "\n",
    "        trans_freq[('BOS', sent[0][1])] += 1 # number of (BOS, tag) bigram\n",
    "        trans_freq[(sent[-1][1], 'EOS')] +=1 # number of (tag, EOS) bigram\n",
    "\n",
    "    ### Practice1: emission prob p(x|y) \n",
    "    # base prob: p(y).\n",
    "    # P(y) for every y (count for each tag): {'CMC': count(CMC), 'CMP': count(CMP),..} \n",
    "    # pos가 cmc cmp이런 것들\n",
    "    #word가 아버지 이런 것들\n",
    "    base = {pos: sum(words.values()) for pos, words in pos2words_freq.items()}\n",
    "    \n",
    "    # p(x|y) = p(x, y) / p(y)\n",
    "    # log(p(x, y)/p(y)) for every (x, y)\n",
    "    pos2words_prob = defaultdict(lambda: defaultdict(float))\n",
    "    for pos, words in pos2words_freq.items():\n",
    "        for word, count in words.items():\n",
    "            pos2words_prob[pos][word] = math.log(count/base[pos])\n",
    "            \n",
    "        \n",
    "    # Do something..\n",
    "    \n",
    "    ### Practice2: transition prob p(y_t|y_(t-1))\n",
    "    # base prob: p(y_(t-1))\n",
    "    # Do something to make {'CMC': count('CMC'), 'fjb': count('fjb'), ..}\n",
    "    base = defaultdict(int)\n",
    "    for (pos0, pos1), count in trans_freq.items():\n",
    "        base[pos0] += count\n",
    "        \n",
    "\n",
    "    # p(y_t|y_(t-1)) = p(y_t, y_(t-1)) / p(y_(t-1))\n",
    "    # Do something -> p(y_t, y_t-1) / p(y_t) \n",
    "    trans_prob = {(pos0, pos1): math.log(count/base[pos0])\n",
    "                  for (pos0, pos1), count in trans_freq.items()}\n",
    "    \n",
    "    return pos2words_prob, trans_prob"
   ]
  },
  {
   "cell_type": "code",
   "execution_count": 4,
   "metadata": {},
   "outputs": [
    {
     "name": "stdout",
     "output_type": "stream",
     "text": [
      "명사 라면의 확률: -9.427948631791715\n",
      "연결어미 라면의 확률: -5.6937321388027\n"
     ]
    }
   ],
   "source": [
    "pos2words, trans = train(corpus)\n",
    "\n",
    "print('명사 라면의 확률:', pos2words['CMC']['라면']) # 명사 '라면'의 확률 (신라면, 진라면 등.)\n",
    "print('연결어미 라면의 확률:', pos2words['fmoc']['라면']) # 연결어미 '라면'의 확률 (~ 이라면)\n",
    "# 연결어미 확률이 더 높게 나옴"
   ]
  },
  {
   "cell_type": "code",
   "execution_count": 5,
   "metadata": {},
   "outputs": [],
   "source": [
    "class HMM_tagger(object):\n",
    "    def __init__(self, pos2words, trans):\n",
    "        self.pos2words = pos2words\n",
    "        self.trans = trans\n",
    "        self.unk = -15  # 학습에 등장하지 않은 것을 예외 처리함 없으면 -15로 해줌\n",
    "        self.eos ='EOS'\n",
    "        self.bos ='BOS'\n",
    "\n",
    "    def sent_log_prob(self, sent):\n",
    "        # emission prob.\n",
    "        log_prob = sum(\n",
    "            (self.pos2words.get(tag, {}).get(word, self.unk) for word, tag in sent)\n",
    "            # do someting..\n",
    "         ) # get emission prob. for each (w, t), otherwise unk value\n",
    "\n",
    "        # transition prob.\n",
    "        bigrams = [(t0, t1) for (_, t0), (_, t1) in zip(sent, sent[1:])] # every bigram in sentence\n",
    "        log_prob+= sum(\n",
    "            (self.trans.get(bigrams, self.unk) for bigrams in bigrams)\n",
    "            \n",
    "            # do something..\n",
    "        )\n",
    "        \n",
    "        # bos\n",
    "        log_prob += self.trans.get((self.bos, sent[0][1]),self.unk)\n",
    "        # get BOS prob for the first (w, t)\n",
    "\n",
    "        # eos\n",
    "        log_prob += self.trans.get((sent[-1][-1],self.eos), self.unk)\n",
    "        # get EOS prob for the last (w, t)\n",
    "        \n",
    "        # length norm.\n",
    "        log_prob /= len(sent)\n",
    "\n",
    "        return log_prob"
   ]
  },
  {
   "cell_type": "code",
   "execution_count": 6,
   "metadata": {},
   "outputs": [
    {
     "name": "stdout",
     "output_type": "stream",
     "text": [
      "감기/CMC 는/fjb 줄이/YBD 다/fmof ./g: -5.489636\n",
      "감기/fmotg 는/fjb 줄/CMC 이다/fjj ./g: -14.037157\n"
     ]
    }
   ],
   "source": [
    "tagger = HMM_tagger(pos2words, trans)\n",
    "test_sent1= \"감기/CMC 는/fjb 줄이/YBD 다/fmof ./g\"\n",
    "test_sent2= \"감기/fmotg 는/fjb 줄/CMC 이다/fjj ./g\"\n",
    "print(\"%s: %f\" % (test_sent1, tagger.sent_log_prob(sent_processing(test_sent1))))\n",
    "print(\"%s: %f\" % (test_sent2, tagger.sent_log_prob(sent_processing(test_sent2))))"
   ]
  }
 ],
 "metadata": {
  "kernelspec": {
   "display_name": "AIBD",
   "language": "python",
   "name": "aibd"
  },
  "language_info": {
   "codemirror_mode": {
    "name": "ipython",
    "version": 3
   },
   "file_extension": ".py",
   "mimetype": "text/x-python",
   "name": "python",
   "nbconvert_exporter": "python",
   "pygments_lexer": "ipython3",
   "version": "3.8.11"
  }
 },
 "nbformat": 4,
 "nbformat_minor": 2
}

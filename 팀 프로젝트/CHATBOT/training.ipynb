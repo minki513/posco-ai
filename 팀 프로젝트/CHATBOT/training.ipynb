{
 "cells": [
  {
   "cell_type": "markdown",
   "source": [
    "# Training the Deep Neural Network Model for Food ordering smart assistant."
   ],
   "metadata": {}
  },
  {
   "cell_type": "markdown",
   "source": [
    "### Importing the libraries"
   ],
   "metadata": {}
  },
  {
   "cell_type": "code",
   "execution_count": 3,
   "source": [
    "import nltk\r\n",
    "import numpy\r\n",
    "import tflearn \r\n",
    "import tensorflow\r\n",
    "import json\r\n",
    "import pickle\r\n",
    "\r\n",
    "from tensorflow.python.framework import ops\r\n",
    "from nltk.stem import WordNetLemmatizer\r\n",
    "lemmatizer = WordNetLemmatizer()\r\n"
   ],
   "outputs": [
    {
     "output_type": "stream",
     "name": "stdout",
     "text": [
      "WARNING:tensorflow:From C:\\Users\\USER\\anaconda3\\lib\\site-packages\\tensorflow\\python\\compat\\v2_compat.py:101: disable_resource_variables (from tensorflow.python.ops.variable_scope) is deprecated and will be removed in a future version.\n",
      "Instructions for updating:\n",
      "non-resource variables are not supported in the long term\n",
      "curses is not supported on this machine (please install/reinstall curses for an optimal experience)\n"
     ]
    }
   ],
   "metadata": {}
  },
  {
   "cell_type": "markdown",
   "source": [
    "### Importing the dataset"
   ],
   "metadata": {}
  },
  {
   "cell_type": "code",
   "execution_count": 4,
   "source": [
    "with open('data.json') as file:\r\n",
    "    data = json.load(file)\r\n",
    "    "
   ],
   "outputs": [],
   "metadata": {}
  },
  {
   "cell_type": "markdown",
   "source": [
    "### Function to save an object using file"
   ],
   "metadata": {}
  },
  {
   "cell_type": "code",
   "execution_count": 5,
   "source": [
    "def save(dObj, sFilename):\r\n",
    "      '''Given an object and a file name, write the object to the file using pickle.'''\r\n",
    "\r\n",
    "      f = open(sFilename, \"wb\")\r\n",
    "      p = pickle.Pickler(f)\r\n",
    "      p.dump(dObj)\r\n",
    "      f.close()\r\n"
   ],
   "outputs": [],
   "metadata": {}
  },
  {
   "cell_type": "markdown",
   "source": [
    "### Function to Preprocess text "
   ],
   "metadata": {}
  },
  {
   "cell_type": "code",
   "execution_count": 6,
   "source": [
    "def preprocess(text):\r\n",
    "    ''' Accepts text as a parameter and performs the following preprocessing: 1. Tokenization\r\n",
    "    2. Lemmatization 3. Convert words to lower case. Returns preprocessed tokens as output.\r\n",
    "    Stop words and punctuations provide valuable context and hence are not preprocessed.'''\r\n",
    "\r\n",
    "    tokens = []\r\n",
    "    words = nltk.word_tokenize(text)\r\n",
    "\r\n",
    "    for word in words:\r\n",
    "        tokens.append(lemmatizer.lemmatize(word.lower()))\r\n",
    "\r\n",
    "    return tokens\r\n",
    "    "
   ],
   "outputs": [],
   "metadata": {}
  },
  {
   "cell_type": "markdown",
   "source": [
    "### Preprocess the data"
   ],
   "metadata": {}
  },
  {
   "cell_type": "code",
   "execution_count": 11,
   "source": [
    "import nltk\r\n",
    "nltk.download('wordnet')"
   ],
   "outputs": [
    {
     "output_type": "stream",
     "name": "stderr",
     "text": [
      "[nltk_data] Downloading package wordnet to\n",
      "[nltk_data]     C:\\Users\\USER\\AppData\\Roaming\\nltk_data...\n",
      "[nltk_data]   Unzipping corpora\\wordnet.zip.\n"
     ]
    },
    {
     "output_type": "execute_result",
     "data": {
      "text/plain": [
       "True"
      ]
     },
     "metadata": {},
     "execution_count": 11
    }
   ],
   "metadata": {}
  },
  {
   "cell_type": "code",
   "execution_count": 12,
   "source": [
    "tokens = set()\r\n",
    "labels = set()\r\n",
    "\r\n",
    "document_x = []\r\n",
    "document_y = []\r\n",
    "\r\n",
    "for intent in data['intents']:\r\n",
    "    for question in intent['questions']:\r\n",
    "        words = preprocess(question)\r\n",
    "        tokens.update(words)\r\n",
    "        document_x.append(words)\r\n",
    "        document_y.append(intent[\"label\"]) \r\n",
    "        labels.add(intent['label'])\r\n"
   ],
   "outputs": [],
   "metadata": {}
  },
  {
   "cell_type": "markdown",
   "source": [
    "### Using One-Hot Encoding to create bag of words"
   ],
   "metadata": {}
  },
  {
   "cell_type": "code",
   "execution_count": 13,
   "source": [
    "X_train = []\r\n",
    "y_train = []\r\n",
    "\r\n",
    "tokens = list(tokens)\r\n",
    "labels = list(labels)\r\n",
    "\r\n",
    "class_zeros = [0 for _ in range(len(labels))]\r\n",
    "\r\n",
    "for i, document in enumerate(document_x):\r\n",
    "    bag = []\r\n",
    "    class_row = class_zeros[:]\r\n",
    "\r\n",
    "    for token in tokens:\r\n",
    "        if token in document:\r\n",
    "            bag.append(1)\r\n",
    "        else:\r\n",
    "            bag.append(0)\r\n",
    "\r\n",
    "    \r\n",
    "    class_row[labels.index(document_y[i])] = 1\r\n",
    "    X_train.append(bag)\r\n",
    "    y_train.append(class_row)\r\n"
   ],
   "outputs": [],
   "metadata": {}
  },
  {
   "cell_type": "markdown",
   "source": [
    "### Training the DNN with 2 hidden layers with each having 8 fully connected neurons and a output layer with softmax activation function"
   ],
   "metadata": {}
  },
  {
   "cell_type": "code",
   "execution_count": 14,
   "source": [
    "X_train = numpy.array(X_train)\r\n",
    "y_train = numpy.array(y_train)\r\n",
    "\r\n",
    "ops.reset_default_graph()\r\n",
    "\r\n",
    "net = tflearn.layers.core.input_data(shape=[None, len(X_train[0])])\r\n",
    "net = tflearn.layers.core.fully_connected(net, 8)\r\n",
    "net = tflearn.layers.core.fully_connected(net, 8)\r\n",
    "net = tflearn.layers.core.fully_connected(net, len(y_train[0]), activation=\"softmax\")\r\n",
    "net = tflearn.layers.estimator.regression(net)\r\n",
    "\r\n",
    "model = tflearn.DNN(net)\r\n",
    "model.fit(X_train, y_train, n_epoch=1000, batch_size=8, show_metric=True)\r\n"
   ],
   "outputs": [
    {
     "output_type": "stream",
     "name": "stdout",
     "text": [
      "Training Step: 15999  | total loss: \u001b[1m\u001b[32m0.24692\u001b[0m\u001b[0m | time: 0.042s\n",
      "| Adam | epoch: 1000 | loss: 0.24692 - acc: 0.9830 -- iter: 120/127\n",
      "Training Step: 16000  | total loss: \u001b[1m\u001b[32m0.22346\u001b[0m\u001b[0m | time: 0.047s\n",
      "| Adam | epoch: 1000 | loss: 0.22346 - acc: 0.9847 -- iter: 127/127\n",
      "--\n"
     ]
    }
   ],
   "metadata": {}
  },
  {
   "cell_type": "markdown",
   "source": [
    "### Saving the model and model information"
   ],
   "metadata": {}
  },
  {
   "cell_type": "code",
   "execution_count": 15,
   "source": [
    "model_information = {\r\n",
    "    \"tokens\": tokens,\r\n",
    "    \"labels\": labels,\r\n",
    "    \"X_train\": X_train,\r\n",
    "    \"y_train\": y_train\r\n",
    "}\r\n",
    "\r\n",
    "save(model_information, \"model_information\")\r\n",
    "model.save(\"model.tflearn\")"
   ],
   "outputs": [
    {
     "output_type": "stream",
     "name": "stdout",
     "text": [
      "INFO:tensorflow:C:\\Users\\USER\\Desktop\\AI\\model.tflearn is not in all_model_checkpoint_paths. Manually adding it.\n"
     ]
    }
   ],
   "metadata": {}
  },
  {
   "cell_type": "code",
   "execution_count": null,
   "source": [],
   "outputs": [],
   "metadata": {}
  }
 ],
 "metadata": {
  "kernelspec": {
   "display_name": "Python 3",
   "language": "python",
   "name": "python3"
  },
  "language_info": {
   "codemirror_mode": {
    "name": "ipython",
    "version": 3
   },
   "file_extension": ".py",
   "mimetype": "text/x-python",
   "name": "python",
   "nbconvert_exporter": "python",
   "pygments_lexer": "ipython3",
   "version": "3.8.8"
  }
 },
 "nbformat": 4,
 "nbformat_minor": 2
}